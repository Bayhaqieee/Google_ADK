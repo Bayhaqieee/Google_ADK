{
 "cells": [
  {
   "cell_type": "code",
   "execution_count": 2,
   "id": "5e4ef2fb",
   "metadata": {},
   "outputs": [
    {
     "name": "stdout",
     "output_type": "stream",
     "text": [
      "Never guess which agent to build again\n",
      "--------------------------------------------------\n"
     ]
    }
   ],
   "source": [
    "# Setup\n",
    "from typing import Dict, List\n",
    "from enum import Enum\n",
    "\n",
    "print(\"Never guess which agent to build again\")\n",
    "print(\"-\" * 50)"
   ]
  },
  {
   "cell_type": "markdown",
   "id": "6ae1aa32",
   "metadata": {},
   "source": [
    "## 3 Agent Selection for Developing Software"
   ]
  },
  {
   "cell_type": "code",
   "execution_count": 3,
   "id": "ca74f321",
   "metadata": {},
   "outputs": [
    {
     "name": "stdout",
     "output_type": "stream",
     "text": [
      "THE 3 AGENT TYPES:\n",
      "\n",
      "Research Agent:\n",
      "  Best for: Data analysis, market research, content insights\n",
      "  Complexity: Low (3/10)\n",
      "  Example: Netflix analyzing viewing patterns\n",
      "\n",
      "Decision Agent:\n",
      "  Best for: Real-time decisions, autonomous actions, risk assessment\n",
      "  Complexity: Medium (7/10)\n",
      "  Example: Goldman Sachs algorithmic trading\n",
      "\n",
      "Workflow Agent:\n",
      "  Best for: Multi-step processes, system integration, orchestration\n",
      "  Complexity: High (9/10)\n",
      "  Example: Salesforce customer journey automation\n"
     ]
    }
   ],
   "source": [
    "class AgentType(Enum):\n",
    "    RESEARCH = \"research\"\n",
    "    DECISION = \"decision\"\n",
    "    WORKFLOW = \"workflow\"\n",
    "\n",
    "# Simple agent profiles\n",
    "AGENT_PROFILES = {\n",
    "    AgentType.RESEARCH: {\n",
    "        \"name\": \"Research Agent\",\n",
    "        \"best_for\": \"Data analysis, market research, content insights\",\n",
    "        \"avoid_for\": \"Real-time decisions, system integrations\",\n",
    "        \"complexity\": \"Low (3/10)\",\n",
    "        \"time_to_value\": \"1-2 weeks\",\n",
    "        \"example\": \"Netflix analyzing viewing patterns\"\n",
    "    },\n",
    "    AgentType.DECISION: {\n",
    "        \"name\": \"Decision Agent\",\n",
    "        \"best_for\": \"Real-time decisions, autonomous actions, risk assessment\",\n",
    "        \"avoid_for\": \"Deep research, complex workflows\", \n",
    "        \"complexity\": \"Medium (7/10)\",\n",
    "        \"time_to_value\": \"4-8 weeks\",\n",
    "        \"example\": \"Goldman Sachs algorithmic trading\"\n",
    "    },\n",
    "    AgentType.WORKFLOW: {\n",
    "        \"name\": \"Workflow Agent\",\n",
    "        \"best_for\": \"Multi-step processes, system integration, orchestration\",\n",
    "        \"avoid_for\": \"Simple lookups, one-time analysis\",\n",
    "        \"complexity\": \"High (9/10)\", \n",
    "        \"time_to_value\": \"8-16 weeks\",\n",
    "        \"example\": \"Salesforce customer journey automation\"\n",
    "    }\n",
    "}\n",
    "\n",
    "print(\"THE 3 AGENT TYPES:\")\n",
    "for agent_type, profile in AGENT_PROFILES.items():\n",
    "    print(f\"\\n{profile['name']}:\")\n",
    "    print(f\"  Best for: {profile['best_for']}\")\n",
    "    print(f\"  Complexity: {profile['complexity']}\")\n",
    "    print(f\"  Example: {profile['example']}\")"
   ]
  },
  {
   "cell_type": "markdown",
   "id": "7d24b4c6",
   "metadata": {},
   "source": [
    "## Company Based Example"
   ]
  },
  {
   "cell_type": "code",
   "execution_count": 4,
   "id": "9be6b68d",
   "metadata": {},
   "outputs": [
    {
     "name": "stdout",
     "output_type": "stream",
     "text": [
      "THE 3 AGENT TYPES:\n",
      "\n",
      "Research Agent:\n",
      "  Best for: Data analysis, market research, content insights\n",
      "  Complexity: Low (3/10)\n",
      "  Example: Netflix analyzing viewing patterns\n",
      "\n",
      "Decision Agent:\n",
      "  Best for: Real-time decisions, autonomous actions, risk assessment\n",
      "  Complexity: Medium (7/10)\n",
      "  Example: Goldman Sachs algorithmic trading\n",
      "\n",
      "Workflow Agent:\n",
      "  Best for: Multi-step processes, system integration, orchestration\n",
      "  Complexity: High (9/10)\n",
      "  Example: Salesforce customer journey automation\n"
     ]
    }
   ],
   "source": [
    "class AgentType(Enum):\n",
    "    RESEARCH = \"research\"\n",
    "    DECISION = \"decision\"\n",
    "    WORKFLOW = \"workflow\"\n",
    "\n",
    "# Simple agent profiles\n",
    "AGENT_PROFILES = {\n",
    "    AgentType.RESEARCH: {\n",
    "        \"name\": \"Research Agent\",\n",
    "        \"best_for\": \"Data analysis, market research, content insights\",\n",
    "        \"avoid_for\": \"Real-time decisions, system integrations\",\n",
    "        \"complexity\": \"Low (3/10)\",\n",
    "        \"time_to_value\": \"1-2 weeks\",\n",
    "        \"example\": \"Netflix analyzing viewing patterns\"\n",
    "    },\n",
    "    AgentType.DECISION: {\n",
    "        \"name\": \"Decision Agent\",\n",
    "        \"best_for\": \"Real-time decisions, autonomous actions, risk assessment\",\n",
    "        \"avoid_for\": \"Deep research, complex workflows\", \n",
    "        \"complexity\": \"Medium (7/10)\",\n",
    "        \"time_to_value\": \"4-8 weeks\",\n",
    "        \"example\": \"Goldman Sachs algorithmic trading\"\n",
    "    },\n",
    "    AgentType.WORKFLOW: {\n",
    "        \"name\": \"Workflow Agent\",\n",
    "        \"best_for\": \"Multi-step processes, system integration, orchestration\",\n",
    "        \"avoid_for\": \"Simple lookups, one-time analysis\",\n",
    "        \"complexity\": \"High (9/10)\", \n",
    "        \"time_to_value\": \"8-16 weeks\",\n",
    "        \"example\": \"Salesforce customer journey automation\"\n",
    "    }\n",
    "}\n",
    "\n",
    "print(\"THE 3 AGENT TYPES:\")\n",
    "for agent_type, profile in AGENT_PROFILES.items():\n",
    "    print(f\"\\n{profile['name']}:\")\n",
    "    print(f\"  Best for: {profile['best_for']}\")\n",
    "    print(f\"  Complexity: {profile['complexity']}\")\n",
    "    print(f\"  Example: {profile['example']}\")"
   ]
  },
  {
   "cell_type": "markdown",
   "id": "4720c5cf",
   "metadata": {},
   "source": [
    "## How to Pick the Correct Agent?"
   ]
  },
  {
   "cell_type": "code",
   "execution_count": 5,
   "id": "55169bab",
   "metadata": {},
   "outputs": [
    {
     "name": "stdout",
     "output_type": "stream",
     "text": [
      "AGENT SELECTION FRAMEWORK READY!\n",
      "\n",
      "Available requirements:\n",
      "  • Real Time Processing\n",
      "  • Data Analysis\n",
      "  • System Integration\n",
      "  • Autonomous Decisions\n",
      "  • Human Collaboration\n"
     ]
    }
   ],
   "source": [
    "class AgentSelector:\n",
    "    \"\"\"Simple framework to select the right agent type\"\"\"\n",
    "    \n",
    "    def __init__(self):\n",
    "        # Simple scoring: which agent type handles each requirement best?\n",
    "        self.requirement_scores = {\n",
    "            \"real_time_processing\": {AgentType.RESEARCH: 2, AgentType.DECISION: 10, AgentType.WORKFLOW: 6},\n",
    "            \"data_analysis\": {AgentType.RESEARCH: 10, AgentType.DECISION: 5, AgentType.WORKFLOW: 3},\n",
    "            \"system_integration\": {AgentType.RESEARCH: 3, AgentType.DECISION: 4, AgentType.WORKFLOW: 10},\n",
    "            \"autonomous_decisions\": {AgentType.RESEARCH: 2, AgentType.DECISION: 10, AgentType.WORKFLOW: 7},\n",
    "            \"human_collaboration\": {AgentType.RESEARCH: 8, AgentType.DECISION: 3, AgentType.WORKFLOW: 9}\n",
    "        }\n",
    "    \n",
    "    def select_agent(self, requirements: List[str]) -> Dict:\n",
    "        \"\"\"Select best agent based on requirements\"\"\"\n",
    "        scores = {AgentType.RESEARCH: 0, AgentType.DECISION: 0, AgentType.WORKFLOW: 0}\n",
    "        \n",
    "        # Calculate scores for each agent type\n",
    "        for req in requirements:\n",
    "            if req in self.requirement_scores:\n",
    "                for agent_type, score in self.requirement_scores[req].items():\n",
    "                    scores[agent_type] += score\n",
    "        \n",
    "        # Find best agent\n",
    "        best_agent = max(scores, key=scores.get)\n",
    "        best_score = scores[best_agent]\n",
    "        \n",
    "        return {\n",
    "            \"recommended_agent\": best_agent,\n",
    "            \"confidence\": \"High\" if best_score >= 15 else \"Medium\" if best_score >= 10 else \"Low\",\n",
    "            \"scores\": {agent.value: score for agent, score in scores.items()},\n",
    "            \"reasoning\": f\"{best_agent.value.title()} agent scores highest for your requirements\"\n",
    "        }\n",
    "\n",
    "selector = AgentSelector()\n",
    "print(\"AGENT SELECTION FRAMEWORK READY!\")\n",
    "print(\"\\nAvailable requirements:\")\n",
    "for req in selector.requirement_scores.keys():\n",
    "    print(f\"  • {req.replace('_', ' ').title()}\")"
   ]
  },
  {
   "cell_type": "markdown",
   "id": "e162f549",
   "metadata": {},
   "source": [
    "## Real Scenario Implementation"
   ]
  },
  {
   "cell_type": "code",
   "execution_count": 6,
   "id": "eb798a5c",
   "metadata": {},
   "outputs": [
    {
     "name": "stdout",
     "output_type": "stream",
     "text": [
      "TEST 1: E-commerce Fraud Detection\n",
      "Requirements: ['Real Time Processing', 'Autonomous Decisions']\n",
      "\n",
      "Recommendation: Decision Agent\n",
      "Confidence: High\n",
      "Scores: {'research': 4, 'decision': 20, 'workflow': 13}\n",
      "Why: Decision agent scores highest for your requirements\n"
     ]
    }
   ],
   "source": [
    "# Test Case 1: E-commerce Fraud Detection\n",
    "fraud_requirements = [\"real_time_processing\", \"autonomous_decisions\"]\n",
    "\n",
    "print(\"TEST 1: E-commerce Fraud Detection\")\n",
    "print(f\"Requirements: {[req.replace('_', ' ').title() for req in fraud_requirements]}\")\n",
    "\n",
    "fraud_result = selector.select_agent(fraud_requirements)\n",
    "print(f\"\\nRecommendation: {fraud_result['recommended_agent'].value.title()} Agent\")\n",
    "print(f\"Confidence: {fraud_result['confidence']}\")\n",
    "print(f\"Scores: {fraud_result['scores']}\")\n",
    "print(f\"Why: {fraud_result['reasoning']}\")"
   ]
  },
  {
   "cell_type": "code",
   "execution_count": 7,
   "id": "ca174094",
   "metadata": {},
   "outputs": [
    {
     "name": "stdout",
     "output_type": "stream",
     "text": [
      "\n",
      "TEST 2: Market Research Analysis\n",
      "Requirements: ['Data Analysis', 'Human Collaboration']\n",
      "\n",
      "Recommendation: Research Agent\n",
      "Confidence: High\n",
      "Scores: {'research': 18, 'decision': 8, 'workflow': 12}\n",
      "Why: Research agent scores highest for your requirements\n"
     ]
    }
   ],
   "source": [
    "# Test Case 2: Market Research Analysis  \n",
    "research_requirements = [\"data_analysis\", \"human_collaboration\"]\n",
    "\n",
    "print(\"\\nTEST 2: Market Research Analysis\")\n",
    "print(f\"Requirements: {[req.replace('_', ' ').title() for req in research_requirements]}\")\n",
    "\n",
    "research_result = selector.select_agent(research_requirements)\n",
    "print(f\"\\nRecommendation: {research_result['recommended_agent'].value.title()} Agent\")\n",
    "print(f\"Confidence: {research_result['confidence']}\")\n",
    "print(f\"Scores: {research_result['scores']}\")\n",
    "print(f\"Why: {research_result['reasoning']}\")"
   ]
  },
  {
   "cell_type": "code",
   "execution_count": 8,
   "id": "d1717ace",
   "metadata": {},
   "outputs": [
    {
     "name": "stdout",
     "output_type": "stream",
     "text": [
      "\n",
      "TEST 3: Customer Onboarding Process\n",
      "Requirements: ['System Integration', 'Human Collaboration']\n",
      "\n",
      "Recommendation: Workflow Agent\n",
      "Confidence: High\n",
      "Scores: {'research': 11, 'decision': 7, 'workflow': 19}\n",
      "Why: Workflow agent scores highest for your requirements\n",
      "\n",
      "FRAMEWORK VALIDATION:\n",
      "Fraud Detection → Decision (makes sense for real-time decisions)\n",
      "Market Research → Research (makes sense for data analysis)\n",
      "Customer Onboarding → Workflow (makes sense for process coordination)\n",
      "\n",
      "Framework successfully differentiates between scenarios!\n"
     ]
    }
   ],
   "source": [
    "# Test Case 3: Customer Onboarding Process\n",
    "onboarding_requirements = [\"system_integration\", \"human_collaboration\"]\n",
    "\n",
    "print(\"\\nTEST 3: Customer Onboarding Process\")\n",
    "print(f\"Requirements: {[req.replace('_', ' ').title() for req in onboarding_requirements]}\")\n",
    "\n",
    "onboarding_result = selector.select_agent(onboarding_requirements)\n",
    "print(f\"\\nRecommendation: {onboarding_result['recommended_agent'].value.title()} Agent\")\n",
    "print(f\"Confidence: {onboarding_result['confidence']}\")\n",
    "print(f\"Scores: {onboarding_result['scores']}\")\n",
    "print(f\"Why: {onboarding_result['reasoning']}\")\n",
    "\n",
    "# Summary\n",
    "print(\"\\nFRAMEWORK VALIDATION:\")\n",
    "print(f\"Fraud Detection → {fraud_result['recommended_agent'].value.title()} (makes sense for real-time decisions)\")\n",
    "print(f\"Market Research → {research_result['recommended_agent'].value.title()} (makes sense for data analysis)\")\n",
    "print(f\"Customer Onboarding → {onboarding_result['recommended_agent'].value.title()} (makes sense for process coordination)\")\n",
    "print(\"\\nFramework successfully differentiates between scenarios!\")"
   ]
  }
 ],
 "metadata": {
  "kernelspec": {
   "display_name": "venv",
   "language": "python",
   "name": "python3"
  },
  "language_info": {
   "codemirror_mode": {
    "name": "ipython",
    "version": 3
   },
   "file_extension": ".py",
   "mimetype": "text/x-python",
   "name": "python",
   "nbconvert_exporter": "python",
   "pygments_lexer": "ipython3",
   "version": "3.13.3"
  }
 },
 "nbformat": 4,
 "nbformat_minor": 5
}
