{
 "cells": [
  {
   "cell_type": "markdown",
   "id": "dd06f825",
   "metadata": {},
   "source": [
    "## Agent Communication Architecture"
   ]
  },
  {
   "cell_type": "code",
   "execution_count": null,
   "id": "bbb83157",
   "metadata": {},
   "outputs": [],
   "source": [
    "import asyncio\n",
    "import json\n",
    "import uuid\n",
    "from datetime import datetime\n",
    "from typing import Dict, List, Any\n",
    "from dataclasses import dataclass\n",
    "\n",
    "print(\"ADK AGENT COMMUNICATION\")\n",
    "print(\"=\" * 30)\n",
    "\n",
    "@dataclass\n",
    "class SimpleTask:\n",
    "    task_id: str\n",
    "    task_type: str\n",
    "    payload: Dict[str, Any]\n",
    "    result: Any = None\n",
    "\n",
    "print(\"Core types ready\")"
   ]
  },
  {
   "cell_type": "markdown",
   "id": "a8907e62",
   "metadata": {},
   "source": []
  }
 ],
 "metadata": {
  "kernelspec": {
   "display_name": "venv",
   "language": "python",
   "name": "python3"
  },
  "language_info": {
   "name": "python",
   "version": "3.13.3"
  }
 },
 "nbformat": 4,
 "nbformat_minor": 5
}
