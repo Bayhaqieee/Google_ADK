{
 "cells": [
  {
   "cell_type": "markdown",
   "id": "d2f80343",
   "metadata": {},
   "source": [
    "## Install Ollama\n",
    "\n",
    "Download & Install Ollama:\n",
    "[ollama.ai](https://ollama.ai)  "
   ]
  },
  {
   "cell_type": "markdown",
   "id": "67393530",
   "metadata": {},
   "source": [
    "## Install the LLM\n",
    "\n",
    "```bash\n",
    "# Go Crazy: 43GB\n",
    "ollama pull llama3.3:70b\n",
    "\n",
    "# Test your setup\n",
    "ollama run llama3.3:70b \"Hello! Test my local AI setup for coding and agent tasks\"\n",
    "```"
   ]
  },
  {
   "cell_type": "markdown",
   "id": "b847d137",
   "metadata": {},
   "source": [
    "## Create Virtual Environment\n",
    "\n",
    "```bash\n",
    "python -m venv .venv\n",
    ".venv\\Scripts\\activate\n",
    "```"
   ]
  },
  {
   "cell_type": "markdown",
   "id": "ccdc5c83",
   "metadata": {},
   "source": [
    "## Install Dependencies\n",
    "\n",
    "```bash\n",
    "python -m pip install --upgrade pip\n",
    "pip install -r requirements.txt\n",
    "python -m ipykernel install --user --name=venv --display-name=\"Google ADK Multi-Provider\"\n",
    "```"
   ]
  },
  {
   "cell_type": "markdown",
   "id": "35899f8c",
   "metadata": {},
   "source": [
    "## Create .env for API\n",
    "\n",
    "```bash\n",
    "\n",
    "# LOCAL DEVELOPMENT (RECOMMENDED FOR LEARNING)\n",
    "OLLAMA_BASE_URL=http://localhost:11434\n",
    "OLLAMA_MODEL=llama3.2:70b\n",
    "USE_LOCAL_MODELS=true\n",
    "\n",
    "# SMART PROVIDER SELECTION\n",
    "PREFERRED_PROVIDER=local  # Start FREE!\n",
    "FALLBACK_PROVIDER=google\n",
    "\n",
    "# COST CONTROL\n",
    "MONTHLY_BUDGET_LIMIT=50.00\n",
    "COST_TRACKING_ENABLED=true\n",
    "ALERT_THRESHOLD_PERCENT=80\n",
    "\n",
    "# DEVELOPMENT SETTINGS\n",
    "DEBUG=true\n",
    "TEMPERATURE=0.7\n",
    "MAX_TOKENS=1000\n",
    "```"
   ]
  },
  {
   "cell_type": "markdown",
   "id": "4fbbd680",
   "metadata": {},
   "source": []
  }
 ],
 "metadata": {
  "language_info": {
   "name": "python"
  }
 },
 "nbformat": 4,
 "nbformat_minor": 5
}
