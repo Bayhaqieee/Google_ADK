{
 "cells": [
  {
   "cell_type": "markdown",
   "id": "eacda6e9",
   "metadata": {},
   "source": [
    "## Environment Check"
   ]
  },
  {
   "cell_type": "code",
   "execution_count": 2,
   "id": "bc8ae35a",
   "metadata": {},
   "outputs": [
    {
     "name": "stdout",
     "output_type": "stream",
     "text": [
      "Checking Google ADK Environment...\n",
      "\n",
      " Option 1: Local LLM (Ollama)\n",
      " Ollama running with Llama models: ['llama3.1:8b']\n",
      "\n",
      " Option 2: Premium Microsoft Azure\n",
      " Azure API key found\n",
      "\n",
      " Recommendations:\n",
      " Start with Ollama - perfect for learning!\n",
      " Upgrade to Microsoft Azure for production features\n"
     ]
    }
   ],
   "source": [
    "# Core imports for Google ADK\n",
    "import os\n",
    "from google.adk.agents import Agent\n",
    "\n",
    "# Check environment configuration\n",
    "print(\"Checking Google ADK Environment...\")\n",
    "\n",
    "# Option 1: Local LLM (Ollama + Llama3.1)\n",
    "print(\"\\n Option 1: Local LLM (Ollama)\")\n",
    "try:\n",
    "    import requests\n",
    "    response = requests.get(\"http://localhost:11434/api/tags\", timeout=5)\n",
    "    if response.status_code == 200:\n",
    "        models = response.json().get('models', [])\n",
    "        llama_models = [m['name'] for m in models if 'llama' in m['name'].lower()]\n",
    "        if llama_models:\n",
    "            print(f\" Ollama running with Llama models: {llama_models}\")\n",
    "            ollama_available = True\n",
    "            recommended_model = llama_models[0]  # Use first available\n",
    "        else:\n",
    "            print(\" Ollama running but no Llama models found\")\n",
    "            print(\" Install: ollama pull llama3.1\")\n",
    "            ollama_available = False\n",
    "    else:\n",
    "        print(\" Ollama not responding\")\n",
    "        ollama_available = False\n",
    "except:\n",
    "    print(\" Ollama not found\")\n",
    "    print(\" Install: https://ollama.ai/download\")\n",
    "    ollama_available = False\n",
    "\n",
    "# Option 2: Premium Microsoft Azure\n",
    "print(\"\\n Option 2: Premium Microsoft Azure\")\n",
    "azure_openai_api_key = os.getenv('AZURE_OPENAI_API_KEY')\n",
    "if azure_openai_api_key:\n",
    "    print(\" Azure API key found\")\n",
    "    azure_available = True\n",
    "else:\n",
    "    print(\" azure_openai_API_KEY not found\")\n",
    "    print(\" Set: export azure_openai_API_KEY='your-key'\")\n",
    "    azure_available = False\n",
    "\n",
    "# Show recommendations\n",
    "print(\"\\n Recommendations:\")\n",
    "if ollama_available:\n",
    "    print(\" Start with Ollama - perfect for learning!\")\n",
    "if azure_available:\n",
    "    print(\" Upgrade to Microsoft Azure for production features\")\n",
    "if not (ollama_available or azure_available):\n",
    "    print(\" Set up at least one option to continue\")"
   ]
  },
  {
   "cell_type": "markdown",
   "id": "1a4122b2",
   "metadata": {},
   "source": [
    "## Development using Local Agent"
   ]
  },
  {
   "cell_type": "code",
   "execution_count": 37,
   "id": "ad944477",
   "metadata": {},
   "outputs": [
    {
     "name": "stdout",
     "output_type": "stream",
     "text": [
      "\n",
      " Why are local LLaMA models useful for developers?\n",
      "🤖 Thinking...\n",
      "\n",
      " Response:\n",
      "Local LLaMA models, like myself, LocalLLaMAAgent, are beneficial to developers due to several reasons:\n",
      "\n",
      "1. **Offline Access**: I can operate without an internet connection, which is particularly helpful in areas with poor connectivity or when data transfer rates need to be minimized.\n",
      "2. **Faster Response Times**: Since I don't rely on network latency, my responses are typically faster than those of cloud-based models.\n",
      "3. **Data Security and Confidentiality**: By processing data locally, you maintain control over your sensitive information and can ensure it doesn't leave your device.\n",
      "4. **Reduced Energy Consumption**: Locally running models like myself tend to be more energy-efficient compared to constantly querying a remote server.\n",
      "\n",
      "These advantages make me an attractive option for developers working on projects where these factors are crucial.\n"
     ]
    }
   ],
   "source": [
    "from google.adk.agents import Agent\n",
    "from google.adk.models.lite_llm import LiteLlm\n",
    "from google.adk.sessions import InMemorySessionService\n",
    "from google.adk.runners import Runner\n",
    "from google.genai import types\n",
    "import asyncio\n",
    "\n",
    "# Use LiteLLM to call Ollama's LLaMA 3.1 directly\n",
    "llm = LiteLlm(model=\"ollama_chat/llama3.1:8b\")  # Must match exactly from `ollama list`\n",
    "\n",
    "# Create Agent\n",
    "agent = Agent(\n",
    "    name=\"LocalLLaMAAgent\",\n",
    "    model=llm,\n",
    "    instruction=\"You are a helpful assistant powered by LLaMA 3.1 via Ollama. Answer clearly and concisely.\",\n",
    "    description=\"Local agent using Ollama\"\n",
    ")\n",
    "\n",
    "# Runtime setup\n",
    "session_service = InMemorySessionService()\n",
    "runner = Runner(\n",
    "    agent=agent,\n",
    "    app_name=\"local_llama_demo\",\n",
    "    session_service=session_service\n",
    ")\n",
    "\n",
    "# Ask function\n",
    "async def ask_free_agent(question):\n",
    "    content = types.Content(role=\"user\", parts=[types.Part(text=question)])\n",
    "    async for event in runner.run_async(\n",
    "        user_id=\"local_user\",\n",
    "        session_id=\"local_session\",\n",
    "        new_message=content\n",
    "    ):\n",
    "        if event.is_final_response():\n",
    "            return event.content.parts[0].text\n",
    "    return \"No response\"\n",
    "\n",
    "# Main run\n",
    "async def main():\n",
    "    await session_service.create_session(\n",
    "        app_name=\"local_llama_demo\",\n",
    "        user_id=\"local_user\",\n",
    "        session_id=\"local_session\"\n",
    "    )\n",
    "    question = \"Why are local LLaMA models useful for developers?\"\n",
    "    print(f\"\\n {question}\\n🤖 Thinking...\\n\")\n",
    "    response = await ask_free_agent(question)\n",
    "    print(f\" Response:\\n{response}\")\n",
    "\n",
    "await main()"
   ]
  },
  {
   "cell_type": "code",
   "execution_count": null,
   "id": "535ba23b",
   "metadata": {},
   "outputs": [],
   "source": []
  }
 ],
 "metadata": {
  "kernelspec": {
   "display_name": "venv (3.13.3)",
   "language": "python",
   "name": "python3"
  },
  "language_info": {
   "codemirror_mode": {
    "name": "ipython",
    "version": 3
   },
   "file_extension": ".py",
   "mimetype": "text/x-python",
   "name": "python",
   "nbconvert_exporter": "python",
   "pygments_lexer": "ipython3",
   "version": "3.13.3"
  }
 },
 "nbformat": 4,
 "nbformat_minor": 5
}
